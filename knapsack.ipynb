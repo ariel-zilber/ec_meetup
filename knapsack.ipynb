{
 "cells": [
  {
   "attachments": {},
   "cell_type": "markdown",
   "metadata": {},
   "source": [
    "## imports"
   ]
  },
  {
   "cell_type": "code",
   "execution_count": null,
   "metadata": {},
   "outputs": [],
   "source": [
    "import random\n",
    "import matplotlib.pyplot as plt\n"
   ]
  },
  {
   "attachments": {},
   "cell_type": "markdown",
   "metadata": {},
   "source": [
    "## constants"
   ]
  },
  {
   "cell_type": "code",
   "execution_count": null,
   "metadata": {},
   "outputs": [],
   "source": []
  },
  {
   "attachments": {},
   "cell_type": "markdown",
   "metadata": {},
   "source": [
    "## Individuals"
   ]
  },
  {
   "cell_type": "code",
   "execution_count": null,
   "metadata": {},
   "outputs": [],
   "source": [
    "\n",
    "# Define the Individual class\n",
    "class Individual:\n",
    "    def __init__(self, genotype=None):\n",
    "        self.genotype = genotype if genotype is not None else [random.randint(0, 1) for _ in range(N)]\n",
    "        self.fitness = calculate_fitness(self.genotype)\n"
   ]
  },
  {
   "attachments": {},
   "cell_type": "markdown",
   "metadata": {},
   "source": [
    "## Fitness"
   ]
  },
  {
   "cell_type": "code",
   "execution_count": null,
   "metadata": {},
   "outputs": [],
   "source": [
    "# Fitness function: evaluate the total value while penalizing overweight solutions\n",
    "def calculate_fitness(genotype):\n",
    "    total_value = sum([genotype[i] * values[i] for i in range(N)])\n",
    "    total_weight = sum([genotype[i] * weights[i] for i in range(N)])\n",
    "    if total_weight > capacity:\n",
    "        return 0  # Penalize overweight solutions\n",
    "    return total_value\n"
   ]
  },
  {
   "attachments": {},
   "cell_type": "markdown",
   "metadata": {},
   "source": [
    "## operators"
   ]
  },
  {
   "cell_type": "code",
   "execution_count": null,
   "metadata": {},
   "outputs": [],
   "source": [
    "\n",
    "# Single-point crossover\n",
    "def crossover(parent1, parent2):\n",
    "    point = random.randint(1, N - 1)\n",
    "    offspring_genotype = parent1.genotype[:point] + parent2.genotype[point:]\n",
    "    return Individual(offspring_genotype)\n",
    "\n",
    "# Mutation: flip random bits\n",
    "def mutate(individual, mutation_rate):\n",
    "    for i in range(N):\n",
    "        if random.random() < mutation_rate:\n",
    "            individual.genotype[i] = 1 - individual.genotype[i]  # Flip bit\n",
    "    individual.fitness = calculate_fitness(individual.genotype)\n"
   ]
  },
  {
   "attachments": {},
   "cell_type": "markdown",
   "metadata": {},
   "source": [
    "## selection"
   ]
  },
  {
   "cell_type": "code",
   "execution_count": null,
   "metadata": {},
   "outputs": [],
   "source": [
    "\n",
    "# Tournament selection\n",
    "def select_parent(population):\n",
    "    tournament_size = 3\n",
    "    tournament = random.sample(population, tournament_size)\n",
    "    tournament.sort(key=lambda x: x.fitness, reverse=True)\n",
    "    return tournament[0]\n"
   ]
  },
  {
   "attachments": {},
   "cell_type": "markdown",
   "metadata": {},
   "source": [
    "## initialzation"
   ]
  },
  {
   "cell_type": "code",
   "execution_count": null,
   "metadata": {},
   "outputs": [],
   "source": [
    "\n",
    "# Random initialization of problem data\n",
    "def initialize_knapsack_problem(num_items):\n",
    "    values = [random.randint(10, 100) for _ in range(num_items)]  # Random values between 10 and 100\n",
    "    weights = [random.randint(1, 50) for _ in range(num_items)]   # Random weights between 1 and 50\n",
    "    capacity = random.randint(50, 150)                            # Random capacity between 50 and 150\n",
    "    return values, weights, capacity\n",
    "\n",
    "# Initialize the population with random individuals\n",
    "def initialize_population(population_size):\n",
    "    return [Individual() for _ in range(population_size)]\n"
   ]
  },
  {
   "attachments": {},
   "cell_type": "markdown",
   "metadata": {},
   "source": [
    "## main"
   ]
  },
  {
   "cell_type": "code",
   "execution_count": null,
   "metadata": {},
   "outputs": [],
   "source": [
    "\n",
    "# Run the genetic algorithm\n",
    "def genetic_algorithm(population_size, generations, mutation_rate):\n",
    "    population = initialize_population(population_size)\n",
    "    best_fitness_over_time = []\n",
    "\n",
    "    for generation in range(generations):\n",
    "        # Sort population by fitness\n",
    "        population.sort(key=lambda x: x.fitness, reverse=True)\n",
    "        best_fitness = population[0].fitness\n",
    "        best_fitness_over_time.append(best_fitness)\n",
    "\n",
    "        # Display progress\n",
    "        if generation % 100 == 0 or generation == generations - 1:\n",
    "            print(f\"Generation {generation}: Best Fitness = {best_fitness}\")\n",
    "\n",
    "        # Create the next generation\n",
    "        next_generation = []\n",
    "        for _ in range(population_size):\n",
    "            parent1 = select_parent(population)\n",
    "            parent2 = select_parent(population)\n",
    "            offspring = crossover(parent1, parent2)\n",
    "            mutate(offspring, mutation_rate)\n",
    "            next_generation.append(offspring)\n",
    "\n",
    "        population = next_generation\n",
    "\n",
    "    # Get the best solution found\n",
    "    best_individual = max(population, key=lambda x: x.fitness)\n",
    "    return best_individual, best_fitness_over_time\n"
   ]
  },
  {
   "attachments": {},
   "cell_type": "markdown",
   "metadata": {},
   "source": [
    "## run"
   ]
  },
  {
   "cell_type": "code",
   "execution_count": 9,
   "metadata": {},
   "outputs": [
    {
     "name": "stdout",
     "output_type": "stream",
     "text": [
      "Number of items (N): 7\n",
      "Values: [18, 20, 99, 13, 49, 37, 94]\n",
      "Weights: [40, 18, 28, 43, 28, 24, 35]\n",
      "Capacity: 126\n",
      "Generation 0: Best Fitness = 262\n",
      "Generation 100: Best Fitness = 279\n",
      "Generation 200: Best Fitness = 279\n",
      "Generation 300: Best Fitness = 279\n",
      "Generation 400: Best Fitness = 279\n",
      "Generation 499: Best Fitness = 279\n",
      "Best solution genotype: [0, 0, 1, 0, 1, 1, 1]\n",
      "Best solution fitness (total value): 279\n"
     ]
    },
    {
     "data": {
      "image/png": "[encoded data removed]",
      "text/plain": [
       "<Figure size 640x480 with 1 Axes>"
      ]
     },
     "metadata": {},
     "output_type": "display_data"
    }
   ],
   "source": [
    "\n",
    "# Randomly initialize the problem with N items\n",
    "N = random.randint(5, 20)  # Number of items between 5 and 20\n",
    "values, weights, capacity = initialize_knapsack_problem(N)\n",
    "\n",
    "\n",
    "# Example usage of the Genetic Algorithm for the Knapsack problem\n",
    "population_size = 50\n",
    "generations = 500\n",
    "mutation_rate = 0.05\n",
    "\n",
    "print(f\"Number of items (N): {N}\")\n",
    "print(f\"Values: {values}\")\n",
    "print(f\"Weights: {weights}\")\n",
    "print(f\"Capacity: {capacity}\")\n",
    "\n",
    "best_solution, fitness_over_time = genetic_algorithm(population_size, generations, mutation_rate)\n",
    "\n",
    "# Output the best solution\n",
    "print(f\"Best solution genotype: {best_solution.genotype}\")\n",
    "print(f\"Best solution fitness (total value): {best_solution.fitness}\")\n",
    "\n",
    "# Visualization of the fitness evolution over time\n",
    "plt.plot(fitness_over_time)\n",
    "plt.title(\"Fitness Evolution Over Generations\")\n",
    "plt.xlabel(\"Generation\")\n",
    "plt.ylabel(\"Best Fitness\")\n",
    "plt.show()\n"
   ]
  }
 ],
 "metadata": {
  "kernelspec": {
   "display_name": "cybersim",
   "language": "python",
   "name": "python3"
  },
  "language_info": {
   "codemirror_mode": {
    "name": "ipython",
    "version": 3
   },
   "file_extension": ".py",
   "mimetype": "text/x-python",
   "name": "python",
   "nbconvert_exporter": "python",
   "pygments_lexer": "ipython3",
   "version": "3.10.14"
  },
  "orig_nbformat": 4
 },
 "nbformat": 4,
 "nbformat_minor": 2
}
